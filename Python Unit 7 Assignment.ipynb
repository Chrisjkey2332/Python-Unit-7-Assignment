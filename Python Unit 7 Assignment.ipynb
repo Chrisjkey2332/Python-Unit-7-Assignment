{
 "cells": [
  {
   "cell_type": "code",
   "execution_count": 1,
   "metadata": {},
   "outputs": [
    {
     "name": "stdout",
     "output_type": "stream",
     "text": [
      "['Argentina', 'San Diego', 'Boston', 'New York']\n"
     ]
    }
   ],
   "source": [
    "places = [\" \",\"Argentina\", \" \", \"San Diego\",\"\",\"  \",\"\",\"Boston\",\"New York\"]\n",
    "\n",
    "places_list = list(filter(lambda x: x > \"  \" , places))\n",
    "print(places_list)"
   ]
  },
  {
   "cell_type": "code",
   "execution_count": 2,
   "metadata": {},
   "outputs": [
    {
     "name": "stdout",
     "output_type": "stream",
     "text": [
      "['Victor aNisimov', 'Gary A.J. Bernstein', 'Joel Carter', 'Andrew P. Garfield', 'David hassELHOFF']\n"
     ]
    }
   ],
   "source": [
    "author = [\"Joel Carter\", \"Victor aNisimov\", \"Andrew P. Garfield\",\"David hassELHOFF\",\"Gary A.J. Bernstein\"]\n",
    "\n",
    "author_list = sorted(author, key = lambda name: name.split(\" \")[-1].lower())\n",
    "print(author_list)"
   ]
  },
  {
   "cell_type": "code",
   "execution_count": null,
   "metadata": {},
   "outputs": [],
   "source": [
    "# F = (9/5)*C + 32\n",
    "places = [('Nashua',32),(\"Boston\",12),(\"Los Angelos\",44),(\"Miami\",29)]\n",
    "\n",
    "#split lists into 2 lists\n",
    "a , b = map(list, zip(*places))\n",
    "\n",
    "#make sure the lists are right\n",
    "print(a)\n",
    "print(b)\n",
    "\n",
    "#do da lamba like a little coder\n",
    "places_F = list(map(lambda x, y: (x, 2 * y + 32), a, b))\n",
    "\n",
    "#print lambda\n",
    "print(places_F)"
   ]
  },
  {
   "cell_type": "code",
   "execution_count": null,
   "metadata": {},
   "outputs": [],
   "source": [
    "def Fib(n):  \n",
    "   if n <= 1:  \n",
    "       return n  \n",
    "   else:  \n",
    "       return(Fib(n-1) + Fib(n-2))  \n",
    "\n",
    "nterms = int(input(\"Enter the terms? \"))  # take input from the user\n",
    "num = 0\n",
    "\n",
    "\n",
    "if nterms <= 0:  # check if the number is valid \n",
    "   print(\"Please enter a positive integer\")  \n",
    "else:   \n",
    "   for i in range(nterms):  \n",
    "       print(f\"Iteration {num}: {Fib(i)}\") \n",
    "       num = num + 1\n",
    "\n",
    "\n",
    "#My fib sequence starts at 0 for iteration 0 so it counts from zero up to the nth iteration of the actual fib series.\n",
    "#Just noticed yall's started at 2 and to try and go above and beyond I figured I would align the iteration with the actual place in the fibonnaci sequence with the iteration number."
   ]
  }
 ],
 "metadata": {
  "kernelspec": {
   "display_name": "Python 3.10.7 64-bit (microsoft store)",
   "language": "python",
   "name": "python3"
  },
  "language_info": {
   "codemirror_mode": {
    "name": "ipython",
    "version": 3
   },
   "file_extension": ".py",
   "mimetype": "text/x-python",
   "name": "python",
   "nbconvert_exporter": "python",
   "pygments_lexer": "ipython3",
   "version": "3.10.7"
  },
  "orig_nbformat": 4,
  "vscode": {
   "interpreter": {
    "hash": "bc74db8dddfc57886741ad4195e296576cbecf0cc37f74c09a186f0c7be22c63"
   }
  }
 },
 "nbformat": 4,
 "nbformat_minor": 2
}
